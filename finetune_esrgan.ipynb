{
 "cells": [
  {
   "cell_type": "code",
   "execution_count": 14,
   "metadata": {},
   "outputs": [],
   "source": [
    "import os\n",
    "from PIL import Image\n",
    "import io\n",
    "import torchvision.transforms as transforms\n",
    "import ESRGAN.RRDBNet_arch as arch\n",
    "import torch.nn as nn\n",
    "import torch.optim as optim\n",
    "import torch\n",
    "import gc"
   ]
  },
  {
   "cell_type": "code",
   "execution_count": 2,
   "metadata": {},
   "outputs": [],
   "source": [
    "image_names = [f for f in os.listdir('images') if os.path.isfile(os.path.join('images', f))]"
   ]
  },
  {
   "cell_type": "code",
   "execution_count": 3,
   "metadata": {},
   "outputs": [
    {
     "data": {
      "text/plain": [
       "3550"
      ]
     },
     "execution_count": 3,
     "metadata": {},
     "output_type": "execute_result"
    }
   ],
   "source": [
    "len(image_names)"
   ]
  },
  {
   "cell_type": "code",
   "execution_count": 4,
   "metadata": {},
   "outputs": [],
   "source": [
    "def preprocess_image(image_name):\n",
    "    png_image = Image.open('images/'+image_name)\n",
    "\n",
    "    low_res_png_image = png_image.resize((png_image.width // 4, png_image.height // 4))\n",
    "\n",
    "    with io.BytesIO() as buffer:\n",
    "        low_res_png_image.save(buffer, format=\"JPEG\")\n",
    "        buffer.seek(0)\n",
    "        jpg_image = Image.open(buffer).copy()\n",
    "\n",
    "    transform = transforms.ToTensor()\n",
    "    png_tensor = transform(png_image).unsqueeze(0)\n",
    "    jpg_tensor = transform(jpg_image).unsqueeze(0)\n",
    "\n",
    "    return jpg_tensor, png_tensor"
   ]
  },
  {
   "cell_type": "code",
   "execution_count": 18,
   "metadata": {},
   "outputs": [],
   "source": [
    "model = arch.RRDBNet(3, 3, 64, 23)\n",
    "loss_f = nn.MSELoss()\n",
    "optimizer = optim.Adam(model.parameters(), lr=0.001)"
   ]
  },
  {
   "cell_type": "code",
   "execution_count": 19,
   "metadata": {},
   "outputs": [],
   "source": [
    "def train(model, criterion, optimizer, input_image, target_image, epochs=10):\n",
    "    model = model#.to('cuda')\n",
    "    input_image = input_image#.to('cuda')\n",
    "    target_image = target_image#.to('cuda')\n",
    "    for epoch in range(epochs):\n",
    "        optimizer.zero_grad()\n",
    "        output = model(input_image)\n",
    "        loss = criterion(output, target_image)\n",
    "        loss.backward()\n",
    "        optimizer.step()\n",
    "\n",
    "        print(f\"Epoch [{epoch}/{epochs}], Loss: {loss.item():.4f}\")"
   ]
  },
  {
   "cell_type": "code",
   "execution_count": null,
   "metadata": {},
   "outputs": [],
   "source": [
    "for image in image_names:\n",
    "    input_tensor, target_tensor = preprocess_image(image)\n",
    "    train(model, loss_f, optimizer, input_tensor, target_tensor,10)\n",
    "    break"
   ]
  },
  {
   "cell_type": "code",
   "execution_count": 17,
   "metadata": {},
   "outputs": [
    {
     "name": "stdout",
     "output_type": "stream",
     "text": [
      "|===========================================================================|\n",
      "|                  PyTorch CUDA memory summary, device ID 0                 |\n",
      "|---------------------------------------------------------------------------|\n",
      "|            CUDA OOMs: 1            |        cudaMalloc retries: 1         |\n",
      "|===========================================================================|\n",
      "|        Metric         | Cur Usage  | Peak Usage | Tot Alloc  | Tot Freed  |\n",
      "|---------------------------------------------------------------------------|\n",
      "| Allocated memory      |  65349 KiB |  12836 MiB |  15606 MiB |  15542 MiB |\n",
      "|       from large pool |      0 KiB |  12773 MiB |  15507 MiB |  15507 MiB |\n",
      "|       from small pool |  65349 KiB |     64 MiB |     99 MiB |     35 MiB |\n",
      "|---------------------------------------------------------------------------|\n",
      "| Active memory         |  65349 KiB |  12836 MiB |  15606 MiB |  15542 MiB |\n",
      "|       from large pool |      0 KiB |  12773 MiB |  15507 MiB |  15507 MiB |\n",
      "|       from small pool |  65349 KiB |     64 MiB |     99 MiB |     35 MiB |\n",
      "|---------------------------------------------------------------------------|\n",
      "| Requested memory      |  65226 KiB |  12803 MiB |  15568 MiB |  15504 MiB |\n",
      "|       from large pool |      0 KiB |  12739 MiB |  15469 MiB |  15469 MiB |\n",
      "|       from small pool |  65226 KiB |     64 MiB |     98 MiB |     35 MiB |\n",
      "|---------------------------------------------------------------------------|\n",
      "| GPU reserved memory   |  67584 KiB |  13064 MiB |  13064 MiB |  12998 MiB |\n",
      "|       from large pool |      0 KiB |  12996 MiB |  12996 MiB |  12996 MiB |\n",
      "|       from small pool |  67584 KiB |     68 MiB |     68 MiB |      2 MiB |\n",
      "|---------------------------------------------------------------------------|\n",
      "| Non-releasable memory |   2234 KiB | 252137 KiB |   2492 MiB |   2489 MiB |\n",
      "|       from large pool |      0 KiB | 249903 KiB |   2399 MiB |   2399 MiB |\n",
      "|       from small pool |   2234 KiB |   3433 KiB |     92 MiB |     90 MiB |\n",
      "|---------------------------------------------------------------------------|\n",
      "| Allocations           |     702    |     931    |    1120    |     418    |\n",
      "|       from large pool |       0    |     229    |     317    |     317    |\n",
      "|       from small pool |     702    |     703    |     803    |     101    |\n",
      "|---------------------------------------------------------------------------|\n",
      "| Active allocs         |     702    |     931    |    1120    |     418    |\n",
      "|       from large pool |       0    |     229    |     317    |     317    |\n",
      "|       from small pool |     702    |     703    |     803    |     101    |\n",
      "|---------------------------------------------------------------------------|\n",
      "| GPU reserved segments |      33    |     214    |     214    |     181    |\n",
      "|       from large pool |       0    |     180    |     180    |     180    |\n",
      "|       from small pool |      33    |      34    |      34    |       1    |\n",
      "|---------------------------------------------------------------------------|\n",
      "| Non-releasable allocs |      28    |     153    |     248    |     220    |\n",
      "|       from large pool |       0    |     125    |     214    |     214    |\n",
      "|       from small pool |      28    |      29    |      34    |       6    |\n",
      "|---------------------------------------------------------------------------|\n",
      "| Oversize allocations  |       0    |       0    |       0    |       0    |\n",
      "|---------------------------------------------------------------------------|\n",
      "| Oversize GPU segments |       0    |       0    |       0    |       0    |\n",
      "|===========================================================================|\n",
      "\n"
     ]
    }
   ],
   "source": [
    "torch.cuda.empty_cache()\n",
    "gc.collect()\n",
    "del input_tensor\n",
    "print(torch.cuda.memory_summary())"
   ]
  }
 ],
 "metadata": {
  "kernelspec": {
   "display_name": ".venv",
   "language": "python",
   "name": "python3"
  },
  "language_info": {
   "codemirror_mode": {
    "name": "ipython",
    "version": 3
   },
   "file_extension": ".py",
   "mimetype": "text/x-python",
   "name": "python",
   "nbconvert_exporter": "python",
   "pygments_lexer": "ipython3",
   "version": "3.12.4"
  }
 },
 "nbformat": 4,
 "nbformat_minor": 2
}
